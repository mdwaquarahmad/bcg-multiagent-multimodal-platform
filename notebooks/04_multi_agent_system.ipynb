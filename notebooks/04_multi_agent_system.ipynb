{
 "cells": [
  {
   "cell_type": "markdown",
   "metadata": {},
   "source": [
    "# BCG Multi-Agent & Multimodal AI Platform - Multi-Agent System\n",
    "\n",
    "This notebook demonstrates the multi-agent system of the BCG Multi-Agent & Multimodal AI Platform, including:\n",
    "1. Setting up specialized agents with different roles\n",
    "2. Orchestrating agent collaboration using LangGraph\n",
    "3. Testing the complete multi-agent system with complex queries\n",
    "4. Analyzing agent interactions and workflow patterns"
   ]
  },
  {
   "cell_type": "code",
   "execution_count": null,
   "metadata": {},
   "source": [
    "import os\n",
    "import sys\n",
    "import logging\n",
    "from pathlib import Path\n",
    "\n",
    "# Add the project root to the Python path\n",
    "project_root = Path().resolve().parent\n",
    "if str(project_root) not in sys.path:\n",
    "    sys.path.append(str(project_root))\n",
    "\n",
    "# Configure logging\n",
    "logging.basicConfig(\n",
    "    level=logging.INFO,\n",
    "    format=\"%(asctime)s - %(name)s - %(levelname)s - %(message)s\",\n",
    ")"
   ]
  },
  {
   "cell_type": "markdown",
   "metadata": {},
   "source": [
    "## 1. Setup and Configuration"
   ]
  },
  {
   "cell_type": "code",
   "execution_count": null,
   "metadata": {},
   "source": [
    "from configs.config import (\n",
    "    PROCESSED_DATA_DIR,\n",
    "    LLM_MODEL,\n",
    "    OLLAMA_BASE_URL,\n",
    ")\n",
    "\n",
    "# Check if Ollama is available\n",
    "import requests\n",
    "try:\n",
    "    response = requests.get(f\"{OLLAMA_BASE_URL}/api/tags\")\n",
    "    if response.status_code == 200:\n",
    "        print(f\"Ollama is available at {OLLAMA_BASE_URL}\")\n",
    "        models = response.json().get(\"models\", [])\n",
    "        if models:\n",
    "            print(f\"Available models: {[model['name'] for model in models]}\")\n",
    "        else:\n",
    "            print(\"No models found in Ollama\")\n",
    "    else:\n",
    "        print(f\"Ollama API returned status code {response.status_code}\")\n",
    "except Exception as e:\n",
    "    print(f\"Error connecting to Ollama: {str(e)}\")\n",
    "    print(f\"Please ensure Ollama is running at {OLLAMA_BASE_URL} with the {LLM_MODEL} model loaded\")"
   ]
  },
  {
   "cell_type": "markdown",
   "metadata": {},
   "source": [
    "## 2. Initialize Language Model\n",
    "\n",
    "First, let's initialize the language model that will be used by all agents."
   ]
  },
  {
   "cell_type": "code",
   "execution_count": null,
   "metadata": {},
   "source": [
    "from langchain_community.llms import Ollama\n",
    "from langchain_openai import ChatOpenAI\n",
    "\n",
    "# Initialize Ollama LLM\n",
    "llm = Ollama(\n",
    "    model=LLM_MODEL,\n",
    "    temperature=0.2,\n",
    "    base_url=OLLAMA_BASE_URL,\n",
    ")\n",
    "\n",
    "# Uncomment to use OpenAI instead\n",
    "# llm = ChatOpenAI(\n",
    "#     model_name=\"gpt-4-turbo\",\n",
    "#     temperature=0.2,\n",
    "# )\n",
    "\n",
    "# Test the LLM\n",
    "test_response = llm.invoke(\"What is BCG known for?\")\n",
    "print(\"Test LLM response:\")\n",
    "print(test_response)"
   ]
  },
  {
   "cell_type": "markdown",
   "metadata": {},
   "source": [
    "## 3. Set Up Directories for Visual Analysis\n",
    "\n",
    "We need to set up directories for visual elements that will be analyzed by the visual analyst agent."
   ]
  },
  {
   "cell_type": "code",
   "execution_count": null,
   "metadata": {},
   "source": [
    "# Find visual elements in processed data\n",
    "visuals_directory = None\n",
    "\n",
    "# Check for visuals in processed documents\n",
    "for doc_dir in PROCESSED_DATA_DIR.iterdir():\n",
    "    if doc_dir.is_dir():\n",
    "        visuals_dir = doc_dir / \"visuals\"\n",
    "        if visuals_dir.exists() and visuals_dir.is_dir():\n",
    "            visuals_directory = visuals_dir\n",
    "            break\n",
    "\n",
    "if visuals_directory:\n",
    "    print(f\"Found visuals directory: {visuals_directory}\")\n",
    "    visual_files = list(visuals_directory.glob(\"*.png\")) + list(visuals_directory.glob(\"*.jpg\"))\n",
    "    print(f\"Found {len(visual_files)} visual files\")\n",
    "else:\n",
    "    print(\"No visuals directory found. Visual analysis capabilities will be limited.\")"
   ]
  },
  {
   "cell_type": "markdown",
   "metadata": {},
   "source": [
    "## 4. Initialize Individual Agents\n",
    "\n",
    "Let's initialize and test each specialized agent individually."
   ]
  },
  {
   "cell_type": "code",
   "execution_count": null,
   "metadata": {},
   "source": [
    "from src.agents.researcher_agent import ResearcherAgent\n",
    "from src.agents.analyst_agent import AnalystAgent\n",
    "from src.agents.visual_analyst_agent import VisualAnalystAgent\n",
    "from src.agents.strategist_agent import StrategistAgent\n",
    "from src.agents.critic_agent import CriticAgent\n",
    "\n",
    "# Initialize researcher agent\n",
    "researcher_agent = ResearcherAgent(\n",
    "    llm=llm,\n",
    "    verbose=True,\n",
    ")\n",
    "\n",
    "# Test researcher agent\n",
    "research_query = \"What are BCG's carbon emission reduction targets?\"\n",
    "print(f\"Testing researcher agent with query: '{research_query}'\")\n",
    "research_result = researcher_agent.research(research_query)\n",
    "print(\"\\nResearcher agent response:\")\n",
    "print(research_result[:500] + \"...\" if len(research_result) > 500 else research_result)"
   ]
  },
  {
   "cell_type": "code",
   "execution_count": null,
   "metadata": {},
   "source": [
    "# Initialize analyst agent\n",
    "analyst_agent = AnalystAgent(\n",
    "    llm=llm,\n",
    "    verbose=True,\n",
    ")\n",
    "\n",
    "# Test analyst agent\n",
    "analysis_query = \"Analyze BCG's sustainability metrics over the last three years\"\n",
    "data_to_analyze = research_result  # Use the research result as data\n",
    "print(f\"Testing analyst agent with query: '{analysis_query}'\")\n",
    "analysis_result = analyst_agent.analyze(data_to_analyze, analysis_query)\n",
    "print(\"\\nAnalyst agent response:\")\n",
    "print(analysis_result[:500] + \"...\" if len(analysis_result) > 500 else analysis_result)"
   ]
  },
  {
   "cell_type": "code",
   "execution_count": null,
   "metadata": {},
   "source": [
    "# Initialize visual analyst agent\n",
    "visual_analyst_agent = VisualAnalystAgent(\n",
    "    llm=llm,\n",
    "    visuals_directory=str(visuals_directory) if visuals_directory else None,\n",
    "    verbose=True,\n",
    ")\n",
    "\n",
    "# Test visual analyst agent\n",
    "if visuals_directory:\n",
    "    visual_query = \"Find charts related to carbon emissions\"\n",
    "    print(f\"Testing visual analyst agent with query: '{visual_query}'\")\n",
    "    visual_result = visual_analyst_agent.analyze_visual(description=visual_query)\n",
    "    print(\"\\nVisual analyst agent response:\")\n",
    "    print(visual_result[:500] + \"...\" if len(visual_result) > 500 else visual_result)\n",
    "    \n",
    "    # If the visual analyst found any images, analyze the first one\n",
    "    import re\n",
    "    image_matches = re.findall(r\"\\d+\\. ([\\w\\.-]+)\\n\", visual_result)\n",
    "    if image_matches:\n",
    "        image_name = image_matches[0]\n",
    "        print(f\"\\nAnalyzing image: {image_name}\")\n",
    "        image_analysis = visual_analyst_agent.analyze_visual(image_path=image_name, description=\"Analyze this chart\")\n",
    "        print(\"\\nImage analysis result:\")\n",
    "        print(image_analysis[:500] + \"...\" if len(image_analysis) > 500 else image_analysis)\n",
    "else:\n",
    "    print(\"Skipping visual analyst test due to missing visuals directory\")"
   ]
  },
  {
   "cell_type": "code",
   "execution_count": null,
   "metadata": {},
   "source": [
    "# Initialize strategist agent\n",
    "strategist_agent = StrategistAgent(\n",
    "    llm=llm,\n",
    "    verbose=True,\n",
    ")\n",
    "\n",
    "# Test strategist agent\n",
    "inputs = {\n",
    "    \"Research\": research_result,\n",
    "    \"Analysis\": analysis_result,\n",
    "}\n",
    "\n",
    "if 'visual_result' in locals():\n",
    "    inputs[\"Visual Analysis\"] = visual_result\n",
    "\n",
    "print(f\"Testing strategist agent with {len(inputs)} inputs\")\n",
    "strategy_result = strategist_agent.synthesize(inputs)\n",
    "print(\"\\nStrategist agent response:\")\n",
    "print(strategy_result[:500] + \"...\" if len(strategy_result) > 500 else strategy_result)"
   ]
  },
  {
   "cell_type": "code",
   "execution_count": null,
   "metadata": {},
   "source": [
    "# Initialize critic agent\n",
    "critic_agent = CriticAgent(\n",
    "    llm=llm,\n",
    "    verbose=True,\n",
    ")\n",
    "\n",
    "# Test critic agent\n",
    "print(f\"Testing critic agent\")\n",
    "critique_result = critic_agent.evaluate(strategy_result, research_result)\n",
    "print(\"\\nCritic agent response:\")\n",
    "print(critique_result[:500] + \"...\" if len(critique_result) > 500 else critique_result)"
   ]
  },
  {
   "cell_type": "markdown",
   "metadata": {},
   "source": [
    "## 5. Initialize and Test Multi-Agent System\n",
    "\n",
    "Now, let's initialize and test the complete multi-agent system."
   ]
  },
  {
   "cell_type": "code",
   "execution_count": null,
   "metadata": {},
   "source": [
    "from src.agents.agent_graph import BCGMultiAgentSystem\n",
    "\n",
    "# Initialize the multi-agent system\n",
    "multi_agent_system = BCGMultiAgentSystem(\n",
    "    llm=llm,\n",
    "    visuals_directory=str(visuals_directory) if visuals_directory else None,\n",
    "    verbose=True,\n",
    ")\n",
    "\n",
    "print(\"BCG Multi-Agent System initialized successfully\")"
   ]
  },
  {
   "cell_type": "markdown",
   "metadata": {},
   "source": [
    "## 6. Test Multi-Agent System with Simple Query"
   ]
  },
  {
   "cell_type": "code",
   "execution_count": null,
   "metadata": {},
   "source": [
    "# Process a simple query\n",
    "simple_query = \"What progress has BCG made in reducing its carbon emissions in the last few years?\"\n",
    "print(f\"Processing query: '{simple_query}'\")\n",
    "\n",
    "simple_response = multi_agent_system.process_query(simple_query)\n",
    "\n",
    "print(\"\\nMulti-Agent System Response:\")\n",
    "print(simple_response)"
   ]
  },
  {
   "cell_type": "markdown",
   "metadata": {},
   "source": [
    "## 7. Test Multi-Agent System with Complex Query\n",
    "\n",
    "Let's test the system with a more complex query that requires multiple agents to collaborate."
   ]
  },
  {
   "cell_type": "code",
   "execution_count": null,
   "metadata": {},
   "source": [
    "# Process a complex query\n",
    "complex_query = \"\"\"How has BCG's approach to sustainability evolved over the past three years, and what are the key metrics and trends in their environmental impact? Also, what strategic recommendations would you make for them to further improve their sustainability performance?\"\"\"\n",
    "print(f\"Processing query: '{complex_query}'\")\n",
    "\n",
    "complex_response = multi_agent_system.process_query(complex_query)\n",
    "\n",
    "print(\"\\nMulti-Agent System Response:\")\n",
    "print(complex_response)"
   ]
  },
  {
   "cell_type": "markdown",
   "metadata": {},
   "source": [
    "## 8. Test Multi-Agent System with Visual Analysis Query\n",
    "\n",
    "Let's test the system with a query that specifically requires visual analysis."
   ]
  },
  {
   "cell_type": "code",
   "execution_count": null,
   "metadata": {},
   "source": [
    "# Process a query requiring visual analysis\n",
    "if visuals_directory:\n",
    "    visual_query = \"What do BCG's charts and graphs reveal about their progress in sustainability metrics? Can you analyze any visual data from their reports and explain the trends?\"\n",
    "    print(f\"Processing query: '{visual_query}'\")\n",
    "\n",
    "    visual_response = multi_agent_system.process_query(visual_query)\n",
    "\n",
    "    print(\"\\nMulti-Agent System Response:\")\n",
    "    print(visual_response)\n",
    "else:\n",
    "    print(\"Skipping visual analysis test due to missing visuals directory\")"
   ]
  },
  {
   "cell_type": "markdown",
   "metadata": {},
   "source": [
    "## 9. Test Multi-Agent System with Data Analysis Query\n",
    "\n",
    "Let's test the system with a query that requires detailed data analysis."
   ]
  },
  {
   "cell_type": "code",
   "execution_count": null,
   "metadata": {},
   "source": [
    "# Process a query requiring data analysis\n",
    "data_query = \"Analyze the trends in BCG's diversity and inclusion metrics over time. What patterns do you see and what conclusions can you draw?\"\n",
    "print(f\"Processing query: '{data_query}'\")\n",
    "\n",
    "data_response = multi_agent_system.process_query(data_query)\n",
    "\n",
    "print(\"\\nMulti-Agent System Response:\")\n",
    "print(data_response)"
   ]
  },
  {
   "cell_type": "markdown",
   "metadata": {},
   "source": [
    "## 10. Test Multi-Agent System with Expert Query\n",
    "\n",
    "Let's test the system with a query that requires providing expert strategic recommendations."
   ]
  },
  {
   "cell_type": "code",
   "execution_count": null,
   "metadata": {},
   "source": [
    "# Process a query requiring strategic recommendations\n",
    "expert_query = \"Based on BCG's sustainability reports, what strategic initiatives should they prioritize over the next 3-5 years to become a leader in sustainability? Provide specific, actionable recommendations.\"\n",
    "print(f\"Processing query: '{expert_query}'\")\n",
    "\n",
    "expert_response = multi_agent_system.process_query(expert_query)\n",
    "\n",
    "print(\"\\nMulti-Agent System Response:\")\n",
    "print(expert_response)"
   ]
  },
  {
   "cell_type": "markdown",
   "metadata": {},
   "source": [
    "## 11. Analyzing Agent Collaboration\n",
    "\n",
    "Let's analyze how different agents collaborate and contribute to the final response."
   ]
  },
  {
   "cell_type": "code",
   "execution_count": null,
   "metadata": {},
   "source": [
    "from IPython.display import Markdown, display\n",
    "import networkx as nx\n",
    "import matplotlib.pyplot as plt\n",
    "\n",
    "# Create a simplified representation of the agent workflow\n",
    "G = nx.DiGraph()\n",
    "\n",
    "# Add nodes for each agent\n",
    "nodes = [\n",
    "    \"Coordinator\",\n",
    "    \"Researcher\",\n",
    "    \"Analyst\",\n",
    "    \"Visual Analyst\",\n",
    "    \"Strategist\",\n",
    "    \"Critic\",\n",
    "    \"Finalizer\"\n",
    "]\n",
    "\n",
    "for node in nodes:\n",
    "    G.add_node(node)\n",
    "\n",
    "# Add edges representing possible flows\n",
    "edges = [\n",
    "    (\"Coordinator\", \"Researcher\"),\n",
    "    (\"Coordinator\", \"Analyst\"),\n",
    "    (\"Coordinator\", \"Visual Analyst\"),\n",
    "    (\"Researcher\", \"Analyst\"),\n",
    "    (\"Researcher\", \"Visual Analyst\"),\n",
    "    (\"Researcher\", \"Strategist\"),\n",
    "    (\"Analyst\", \"Visual Analyst\"),\n",
    "    (\"Analyst\", \"Strategist\"),\n",
    "    (\"Visual Analyst\", \"Strategist\"),\n",
    "    (\"Strategist\", \"Critic\"),\n",
    "    (\"Critic\", \"Researcher\"),\n",
    "    (\"Critic\", \"Analyst\"),\n",
    "    (\"Critic\", \"Visual Analyst\"),\n",
    "    (\"Critic\", \"Strategist\"),\n",
    "    (\"Critic\", \"Finalizer\")\n",
    "]\n",
    "\n",
    "for edge in edges:\n",
    "    G.add_edge(edge[0], edge[1])\n",
    "\n",
    "# Create a visualization of the agent workflow\n",
    "plt.figure(figsize=(12, 8))\n",
    "pos = nx.spring_layout(G, k=0.5, seed=42)\n",
    "nx.draw(G, pos, with_labels=True, node_color=\"skyblue\", node_size=2000, \n",
    "        font_size=12, font_weight=\"bold\", arrows=True, arrowsize=20, \n",
    "        arrowstyle=\"->\", width=2, edge_color=\"gray\")\n",
    "plt.title(\"BCG Multi-Agent Workflow\", size=16)\n",
    "plt.tight_layout()\n",
    "plt.show()\n",
    "\n",
    "# Display agent roles and responsibilities\n",
    "agent_descriptions = \"\"\"\n",
    "| Agent | Role | Responsibilities |\n",
    "|-------|------|------------------|\n",
    "| **Coordinator** | Query Router | Analyzes the query and determines which specialist agent should handle it first |\n",
    "| **Researcher** | Information Gatherer | Collects relevant information from BCG reports and external sources |\n",
    "| **Analyst** | Data Analyst | Analyzes data, identifies trends, and generates insights |\n",
    "| **Visual Analyst** | Visual Interpreter | Analyzes charts, graphs, and visual elements to extract insights |\n",
    "| **Strategist** | Strategic Advisor | Synthesizes information and formulates strategic recommendations |\n",
    "| **Critic** | Quality Evaluator | Evaluates outputs, identifies issues, and suggests improvements |\n",
    "| **Finalizer** | Response Generator | Creates the final comprehensive response incorporating all insights |\n",
    "\"\"\"\n",
    "\n",
    "display(Markdown(agent_descriptions))"
   ]
  },
  {
   "cell_type": "markdown",
   "metadata": {},
   "source": [
    "## 12. Conclusion\n",
    "\n",
    "In this notebook, we've successfully demonstrated the multi-agent system of the BCG Multi-Agent & Multimodal AI Platform. We've shown how multiple specialized agents can collaborate using LangGraph to provide comprehensive, thoughtful responses to complex queries about BCG's sustainability efforts.\n",
    "\n",
    "Key accomplishments include:\n",
    "1. Setting up specialized agents with different roles and capabilities\n",
    "2. Orchestrating agent collaboration through a flexible workflow\n",
    "3. Testing the system with various types of queries\n",
    "4. Analyzing the agent collaboration patterns\n",
    "\n",
    "This multi-agent architecture allows for more sophisticated reasoning, fact-checking, and strategic thinking than a single LLM could provide alone. The system's modular design also allows for future enhancements, such as adding new specialized agents or improving the existing ones with more advanced capabilities."
   ]
  }
 ],
 "metadata": {
  "kernelspec": {
   "display_name": "Python 3",
   "language": "python",
   "name": "python3"
  },
  "language_info": {
   "codemirror_mode": {
    "name": "ipython",
    "version": 3
   },
   "file_extension": ".py",
   "mimetype": "text/x-python",
   "name": "python",
   "nbconvert_exporter": "python",
   "pygments_lexer": "ipython3",
   "version": "3.8.10"
  }
 },
 "nbformat": 4,
 "nbformat_minor": 4
}